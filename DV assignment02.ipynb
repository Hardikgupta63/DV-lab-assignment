{
  "nbformat": 4,
  "nbformat_minor": 0,
  "metadata": {
    "colab": {
      "provenance": [],
      "authorship_tag": "ABX9TyOl8t5QclbPEBcYvZgLZHBm",
      "include_colab_link": true
    },
    "kernelspec": {
      "name": "python3",
      "display_name": "Python 3"
    },
    "language_info": {
      "name": "python"
    }
  },
  "cells": [
    {
      "cell_type": "markdown",
      "metadata": {
        "id": "view-in-github",
        "colab_type": "text"
      },
      "source": [
        "<a href=\"https://colab.research.google.com/github/Hardikgupta63/DV-lab-assignment/blob/main/DV%20assignment02.ipynb\" target=\"_parent\"><img src=\"https://colab.research.google.com/assets/colab-badge.svg\" alt=\"Open In Colab\"/></a>"
      ]
    },
    {
      "cell_type": "code",
      "source": [
        "import pandas as pd\n",
        "\n",
        "# 1. Create Student and Dept DataFrames\n",
        "student_data = {\n",
        "    'Std_id': ['St11', 'St12', 'St13', 'St14', 'St15', 'St16', 'St17', 'St18', 'St19', 'St20'],\n",
        "    'name': ['Rama', 'Krishna', 'Balarama', 'Hanuma', 'Jaya', 'Sita', 'Radha', 'Rukmini', 'Lakshmi', 'Bharatha'],\n",
        "    'Sem': [1, 1, 2, 2, 3, 3, 3, 2, 1, 1],\n",
        "    'age': [19, 20, 21, 18, 20, 22, 19, 17, 19, 22],\n",
        "    'CGPA': [7.5, 8.9, 9.9, 9.5, 8.3, 8.5, 8.3, 8.1, 9.2, 9.5],\n",
        "    'Dept_id': ['D1', 'D1', 'D2', 'D2', 'D3', 'D4', 'D4', 'D4', 'D1', 'D2']\n",
        "}\n",
        "\n",
        "dept_data = {\n",
        "    'Dept_id': ['D1', 'D2', 'D4', 'D5', 'D6'],\n",
        "    'Dname': ['CSE', 'Mech', 'AI and ML', 'ECE', 'Civil'],\n",
        "    'Dloc': ['Bangalore', 'Goa', 'Delhi', 'Bangalore', 'Mathura'],\n",
        "    'D_Hod': ['Indra', 'Chadra', 'Surya', 'Mourya', 'Harsha']\n",
        "}"
      ],
      "metadata": {
        "id": "QjlpEnJ55Jtp"
      },
      "execution_count": 5,
      "outputs": []
    },
    {
      "cell_type": "code",
      "source": [
        "student_df = pd.DataFrame(student_data)\n",
        "dept_df = pd.DataFrame(dept_data)\n"
      ],
      "metadata": {
        "id": "MIKtRumU5SxN"
      },
      "execution_count": 6,
      "outputs": []
    },
    {
      "cell_type": "code",
      "source": [
        "\n",
        "\n",
        "# 2. Inner Join and Outer Join\n",
        "inner_join_result = pd.merge(student_df, dept_df, on='Dept_id', how='inner')\n",
        "outer_join_result = pd.merge(student_df, dept_df, on='Dept_id', how='outer')\n",
        "\n"
      ],
      "metadata": {
        "id": "gGiGqzkk5VIj"
      },
      "execution_count": 9,
      "outputs": []
    },
    {
      "cell_type": "code",
      "source": [
        "# 3. Merge based on dept_id\n",
        "merged_df = pd.merge(student_df, dept_df, on='Dept_id')"
      ],
      "metadata": {
        "id": "yGDHCpN05mga"
      },
      "execution_count": 10,
      "outputs": []
    },
    {
      "cell_type": "code",
      "source": [
        "# 4. Extract CSE department student details\n",
        "cse_students = merged_df[merged_df['Dname'] == 'CSE']"
      ],
      "metadata": {
        "id": "yuhsDlpL5tER"
      },
      "execution_count": 11,
      "outputs": []
    },
    {
      "cell_type": "code",
      "source": [
        "# 5. Extract students whose name starts with 'R'\n",
        "r_name_students = merged_df[merged_df['name'].str.startswith('R')]\n"
      ],
      "metadata": {
        "id": "i9quZnv65xXz"
      },
      "execution_count": 12,
      "outputs": []
    },
    {
      "cell_type": "code",
      "source": [
        "# 6. Extract students with CGPA > 9.0\n",
        "high_cgpa_students = merged_df[merged_df['CGPA'] > 9.0]\n"
      ],
      "metadata": {
        "id": "xFNz_1sQ51Yh"
      },
      "execution_count": 13,
      "outputs": []
    },
    {
      "cell_type": "code",
      "source": [
        "# 7. Rename the 'Dname' column to 'dept_name'\n",
        "merged_df.rename(columns={'Dname': 'dept_name'}, inplace=True)"
      ],
      "metadata": {
        "id": "7GoMaprb548Y"
      },
      "execution_count": 14,
      "outputs": []
    },
    {
      "cell_type": "code",
      "source": [
        "# 8. Find highest and lowest CGPA in each department\n",
        "highest_cgpa = merged_df.groupby('Dept_id')['CGPA'].max()\n",
        "lowest_cgpa = merged_df.groupby('Dept_id')['CGPA'].min()"
      ],
      "metadata": {
        "id": "DnCxpKu9587p"
      },
      "execution_count": 15,
      "outputs": []
    },
    {
      "cell_type": "code",
      "source": [
        "# 9. Extract 2nd, 4th, and 6th rows from Dept table\n",
        "dept_rows = dept_df.loc[[1, 3, 4]]\n"
      ],
      "metadata": {
        "id": "xsAOgOV96Ayj"
      },
      "execution_count": 17,
      "outputs": []
    },
    {
      "cell_type": "code",
      "source": [
        "# 10. Reshape Dept table\n",
        "reshaped_dept = dept_df.pivot(index='Dname', columns='Dloc', values='D_Hod')\n"
      ],
      "metadata": {
        "id": "TVd-SN7x6ITH"
      },
      "execution_count": 18,
      "outputs": []
    },
    {
      "cell_type": "code",
      "source": [
        "# Displaying results\n",
        "print(\"Inner Join Result:\")\n",
        "print(inner_join_result)\n",
        "print(\"\\nOuter Join Result:\")\n",
        "print(outer_join_result)\n",
        "print(\"\\nMerged DataFrame:\")\n",
        "print(merged_df)\n",
        "print(\"\\nCSE Department Students:\")\n",
        "print(cse_students)\n",
        "print(\"\\nStudents with Names Starting with 'R':\")\n",
        "print(r_name_students)\n",
        "print(\"\\nStudents with CGPA > 9.0:\")\n",
        "print(high_cgpa_students)\n",
        "print(\"\\nHighest CGPA in Each Department:\")\n",
        "print(highest_cgpa)\n",
        "print(\"\\nLowest CGPA in Each Department:\")\n",
        "print(lowest_cgpa)\n",
        "print(\"\\nSelected Rows from Dept Table:\")\n",
        "print(dept_rows)\n",
        "print(\"\\nReshaped Dept Table:\")\n",
        "print(reshaped_dept)"
      ],
      "metadata": {
        "colab": {
          "base_uri": "https://localhost:8080/"
        },
        "id": "1h7LuVq56MyW",
        "outputId": "8e585da2-6daa-49e9-8a2f-8926b253c014"
      },
      "execution_count": 19,
      "outputs": [
        {
          "output_type": "stream",
          "name": "stdout",
          "text": [
            "Inner Join Result:\n",
            "  Std_id      name  Sem  age  CGPA Dept_id      Dname       Dloc   D_Hod\n",
            "0   St11      Rama    1   19   7.5      D1        CSE  Bangalore   Indra\n",
            "1   St12   Krishna    1   20   8.9      D1        CSE  Bangalore   Indra\n",
            "2   St19   Lakshmi    1   19   9.2      D1        CSE  Bangalore   Indra\n",
            "3   St13  Balarama    2   21   9.9      D2       Mech        Goa  Chadra\n",
            "4   St14    Hanuma    2   18   9.5      D2       Mech        Goa  Chadra\n",
            "5   St20  Bharatha    1   22   9.5      D2       Mech        Goa  Chadra\n",
            "6   St16      Sita    3   22   8.5      D4  AI and ML      Delhi   Surya\n",
            "7   St17     Radha    3   19   8.3      D4  AI and ML      Delhi   Surya\n",
            "8   St18   Rukmini    2   17   8.1      D4  AI and ML      Delhi   Surya\n",
            "\n",
            "Outer Join Result:\n",
            "   Std_id      name  Sem   age  CGPA Dept_id      Dname       Dloc   D_Hod\n",
            "0    St11      Rama  1.0  19.0   7.5      D1        CSE  Bangalore   Indra\n",
            "1    St12   Krishna  1.0  20.0   8.9      D1        CSE  Bangalore   Indra\n",
            "2    St19   Lakshmi  1.0  19.0   9.2      D1        CSE  Bangalore   Indra\n",
            "3    St13  Balarama  2.0  21.0   9.9      D2       Mech        Goa  Chadra\n",
            "4    St14    Hanuma  2.0  18.0   9.5      D2       Mech        Goa  Chadra\n",
            "5    St20  Bharatha  1.0  22.0   9.5      D2       Mech        Goa  Chadra\n",
            "6    St15      Jaya  3.0  20.0   8.3      D3        NaN        NaN     NaN\n",
            "7    St16      Sita  3.0  22.0   8.5      D4  AI and ML      Delhi   Surya\n",
            "8    St17     Radha  3.0  19.0   8.3      D4  AI and ML      Delhi   Surya\n",
            "9    St18   Rukmini  2.0  17.0   8.1      D4  AI and ML      Delhi   Surya\n",
            "10    NaN       NaN  NaN   NaN   NaN      D5        ECE  Bangalore  Mourya\n",
            "11    NaN       NaN  NaN   NaN   NaN      D6      Civil    Mathura  Harsha\n",
            "\n",
            "Merged DataFrame:\n",
            "  Std_id      name  Sem  age  CGPA Dept_id  dept_name       Dloc   D_Hod\n",
            "0   St11      Rama    1   19   7.5      D1        CSE  Bangalore   Indra\n",
            "1   St12   Krishna    1   20   8.9      D1        CSE  Bangalore   Indra\n",
            "2   St19   Lakshmi    1   19   9.2      D1        CSE  Bangalore   Indra\n",
            "3   St13  Balarama    2   21   9.9      D2       Mech        Goa  Chadra\n",
            "4   St14    Hanuma    2   18   9.5      D2       Mech        Goa  Chadra\n",
            "5   St20  Bharatha    1   22   9.5      D2       Mech        Goa  Chadra\n",
            "6   St16      Sita    3   22   8.5      D4  AI and ML      Delhi   Surya\n",
            "7   St17     Radha    3   19   8.3      D4  AI and ML      Delhi   Surya\n",
            "8   St18   Rukmini    2   17   8.1      D4  AI and ML      Delhi   Surya\n",
            "\n",
            "CSE Department Students:\n",
            "  Std_id     name  Sem  age  CGPA Dept_id Dname       Dloc  D_Hod\n",
            "0   St11     Rama    1   19   7.5      D1   CSE  Bangalore  Indra\n",
            "1   St12  Krishna    1   20   8.9      D1   CSE  Bangalore  Indra\n",
            "2   St19  Lakshmi    1   19   9.2      D1   CSE  Bangalore  Indra\n",
            "\n",
            "Students with Names Starting with 'R':\n",
            "  Std_id     name  Sem  age  CGPA Dept_id      Dname       Dloc  D_Hod\n",
            "0   St11     Rama    1   19   7.5      D1        CSE  Bangalore  Indra\n",
            "7   St17    Radha    3   19   8.3      D4  AI and ML      Delhi  Surya\n",
            "8   St18  Rukmini    2   17   8.1      D4  AI and ML      Delhi  Surya\n",
            "\n",
            "Students with CGPA > 9.0:\n",
            "  Std_id      name  Sem  age  CGPA Dept_id Dname       Dloc   D_Hod\n",
            "2   St19   Lakshmi    1   19   9.2      D1   CSE  Bangalore   Indra\n",
            "3   St13  Balarama    2   21   9.9      D2  Mech        Goa  Chadra\n",
            "4   St14    Hanuma    2   18   9.5      D2  Mech        Goa  Chadra\n",
            "5   St20  Bharatha    1   22   9.5      D2  Mech        Goa  Chadra\n",
            "\n",
            "Highest CGPA in Each Department:\n",
            "Dept_id\n",
            "D1    9.2\n",
            "D2    9.9\n",
            "D4    8.5\n",
            "Name: CGPA, dtype: float64\n",
            "\n",
            "Lowest CGPA in Each Department:\n",
            "Dept_id\n",
            "D1    7.5\n",
            "D2    9.5\n",
            "D4    8.1\n",
            "Name: CGPA, dtype: float64\n",
            "\n",
            "Selected Rows from Dept Table:\n",
            "  Dept_id  Dname       Dloc   D_Hod\n",
            "1      D2   Mech        Goa  Chadra\n",
            "3      D5    ECE  Bangalore  Mourya\n",
            "4      D6  Civil    Mathura  Harsha\n",
            "\n",
            "Reshaped Dept Table:\n",
            "Dloc      Bangalore  Delhi     Goa Mathura\n",
            "Dname                                     \n",
            "AI and ML       NaN  Surya     NaN     NaN\n",
            "CSE           Indra    NaN     NaN     NaN\n",
            "Civil           NaN    NaN     NaN  Harsha\n",
            "ECE          Mourya    NaN     NaN     NaN\n",
            "Mech            NaN    NaN  Chadra     NaN\n"
          ]
        }
      ]
    }
  ]
}